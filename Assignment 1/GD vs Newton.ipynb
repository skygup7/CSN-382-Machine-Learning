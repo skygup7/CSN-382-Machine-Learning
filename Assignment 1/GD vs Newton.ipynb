{
 "cells": [
  {
   "cell_type": "markdown",
   "metadata": {},
   "source": [
    "# Function\n",
    "## x^2-4x+5"
   ]
  },
  {
   "cell_type": "code",
   "execution_count": 2,
   "metadata": {},
   "outputs": [],
   "source": [
    "import numpy as np\n",
    "import scipy as sc\n",
    "import pandas as pd"
   ]
  },
  {
   "cell_type": "code",
   "execution_count": 3,
   "metadata": {},
   "outputs": [],
   "source": [
    "Srate = 0.001\n",
    "x = []\n",
    "y = []\n",
    "\n",
    "for i in range(0,4000):\n",
    "    x.append(i*Srate)\n",
    "    y.append(x[i]*x[i] - 4*x[i] + 5)"
   ]
  },
  {
   "cell_type": "code",
   "execution_count": 4,
   "metadata": {},
   "outputs": [
    {
     "data": {
      "text/plain": [
       "(2000, 4)"
      ]
     },
     "execution_count": 4,
     "metadata": {},
     "output_type": "execute_result"
    }
   ],
   "source": [
    "a = []\n",
    "b = []\n",
    "\n",
    "for i in range(0,2000):\n",
    "    a.append(x[i*2])\n",
    "    b.append(y[i*2])\n",
    "train = np.transpose(np.array([np.ones(2000), a, np.square(a), b]))\n",
    "np.shape(train)"
   ]
  },
  {
   "cell_type": "code",
   "execution_count": 5,
   "metadata": {},
   "outputs": [
    {
     "data": {
      "text/plain": [
       "(1000, 4)"
      ]
     },
     "execution_count": 5,
     "metadata": {},
     "output_type": "execute_result"
    }
   ],
   "source": [
    "del a[:]\n",
    "del b[:]\n",
    "for i in range(0,1000):\n",
    "    a.append(x[i*4+1])\n",
    "    b.append(y[i*4+1])\n",
    "validate = np.transpose(np.array([np.ones(1000), a, np.square(a), b]))\n",
    "np.shape(validate)"
   ]
  },
  {
   "cell_type": "code",
   "execution_count": 6,
   "metadata": {},
   "outputs": [
    {
     "data": {
      "text/plain": [
       "(1000, 4)"
      ]
     },
     "execution_count": 6,
     "metadata": {},
     "output_type": "execute_result"
    }
   ],
   "source": [
    "del a[:]\n",
    "del b[:]\n",
    "for i in range(0,1000):\n",
    "    a.append(x[i*4+3])\n",
    "    b.append(y[i*4+3])\n",
    "test = np.transpose(np.array([np.ones(1000), a, np.square(a), b]))\n",
    "np.shape(test)"
   ]
  },
  {
   "cell_type": "code",
   "execution_count": 13,
   "metadata": {},
   "outputs": [
    {
     "name": "stdout",
     "output_type": "stream",
     "text": [
      "[[ 0.42472889]\n",
      " [ 0.94338068]\n",
      " [ 0.4176345 ]]\n"
     ]
    },
    {
     "data": {
      "text/plain": [
       "(3, 1)"
      ]
     },
     "execution_count": 13,
     "metadata": {},
     "output_type": "execute_result"
    }
   ],
   "source": [
    "W = np.random.rand(3,1)\n",
    "print W\n",
    "np.shape(W)"
   ]
  },
  {
   "cell_type": "markdown",
   "metadata": {},
   "source": [
    "## This is the matrix manipulation method"
   ]
  },
  {
   "cell_type": "code",
   "execution_count": 30,
   "metadata": {},
   "outputs": [
    {
     "data": {
      "text/plain": [
       "(2000, 2000)"
      ]
     },
     "execution_count": 30,
     "metadata": {},
     "output_type": "execute_result"
    }
   ],
   "source": [
    "temp = np.linalg.pinv(np.matmul(train[:,[0,1,2]],np.transpose(train[:,[0,1,2]])))\n",
    "np.shape(temp)"
   ]
  },
  {
   "cell_type": "code",
   "execution_count": 31,
   "metadata": {},
   "outputs": [
    {
     "data": {
      "text/plain": [
       "(2000, 3)"
      ]
     },
     "execution_count": 31,
     "metadata": {},
     "output_type": "execute_result"
    }
   ],
   "source": [
    "temp = np.matmul(temp, train[:,[0,1,2]])\n",
    "np.shape(temp)"
   ]
  },
  {
   "cell_type": "code",
   "execution_count": 34,
   "metadata": {},
   "outputs": [
    {
     "data": {
      "text/plain": [
       "array([[ 5.],\n",
       "       [-4.],\n",
       "       [ 1.]])"
      ]
     },
     "execution_count": 34,
     "metadata": {},
     "output_type": "execute_result"
    }
   ],
   "source": [
    "W = np.matmul(np.transpose(temp), train[:,[3]])\n",
    "W"
   ]
  },
  {
   "cell_type": "markdown",
   "metadata": {},
   "source": [
    "## This is Batch Graient Descent"
   ]
  },
  {
   "cell_type": "code",
   "execution_count": 19,
   "metadata": {},
   "outputs": [],
   "source": [
    "derivative = np.zeros((3,1))\n",
    "alpha = 0.03 #learning rate\n",
    "W = np.random.rand(3,1)\n",
    "\n",
    "for i in xrange(0,5000):\n",
    "    Cost = 0.5/2000*(np.matmul(np.transpose(np.subtract(np.matmul(train[:,[0,1,2]], W), train[:,[3]])), np.subtract(np.matmul(train[:,[0,1,2]], W), train[:,[3]])))\n",
    "    derivative = 1.0/2000*(np.matmul(np.transpose(train[:,[0,1,2]]), np.subtract(np.matmul(train[:,[0,1,2]], W), train[:,[3]])))\n",
    "    W = np.subtract(W, alpha*derivative)"
   ]
  },
  {
   "cell_type": "code",
   "execution_count": 9,
   "metadata": {},
   "outputs": [
    {
     "name": "stdout",
     "output_type": "stream",
     "text": [
      "[[ 4.99747579]\n",
      " [-3.99699674]\n",
      " [ 0.99932366]]\n"
     ]
    }
   ],
   "source": [
    "print W"
   ]
  },
  {
   "cell_type": "markdown",
   "metadata": {},
   "source": [
    "## This is Newton's Method"
   ]
  },
  {
   "cell_type": "code",
   "execution_count": 15,
   "metadata": {
    "collapsed": true
   },
   "outputs": [
    {
     "name": "stdout",
     "output_type": "stream",
     "text": [
      "[[ 23.29885424]]\n",
      "[[ 0.00111822]\n",
      " [ 0.69875413]\n",
      " [ 0.97758872]]\n",
      "[[  5.51391598e-28]]\n",
      "[[ 5.]\n",
      " [-4.]\n",
      " [ 1.]]\n",
      "[[  9.93471703e-33]]\n",
      "[[ 5.]\n",
      " [-4.]\n",
      " [ 1.]]\n",
      "[[  9.93471703e-33]]\n",
      "[[ 5.]\n",
      " [-4.]\n",
      " [ 1.]]\n",
      "[[  9.93471703e-33]]\n",
      "[[ 5.]\n",
      " [-4.]\n",
      " [ 1.]]\n",
      "[[  9.93471703e-33]]\n",
      "[[ 5.]\n",
      " [-4.]\n",
      " [ 1.]]\n",
      "[[  9.93471703e-33]]\n",
      "[[ 5.]\n",
      " [-4.]\n",
      " [ 1.]]\n",
      "[[  9.93471703e-33]]\n",
      "[[ 5.]\n",
      " [-4.]\n",
      " [ 1.]]\n",
      "[[  9.93471703e-33]]\n",
      "[[ 5.]\n",
      " [-4.]\n",
      " [ 1.]]\n",
      "[[  9.93471703e-33]]\n",
      "[[ 5.]\n",
      " [-4.]\n",
      " [ 1.]]\n",
      "[[  9.93471703e-33]]\n",
      "[[ 5.]\n",
      " [-4.]\n",
      " [ 1.]]\n",
      "[[  9.93471703e-33]]\n",
      "[[ 5.]\n",
      " [-4.]\n",
      " [ 1.]]\n",
      "[[  9.93471703e-33]]\n",
      "[[ 5.]\n",
      " [-4.]\n",
      " [ 1.]]\n",
      "[[  9.93471703e-33]]\n",
      "[[ 5.]\n",
      " [-4.]\n",
      " [ 1.]]\n",
      "[[  9.93471703e-33]]\n",
      "[[ 5.]\n",
      " [-4.]\n",
      " [ 1.]]\n",
      "[[  9.93471703e-33]]\n",
      "[[ 5.]\n",
      " [-4.]\n",
      " [ 1.]]\n",
      "[[  9.93471703e-33]]\n",
      "[[ 5.]\n",
      " [-4.]\n",
      " [ 1.]]\n",
      "[[  9.93471703e-33]]\n",
      "[[ 5.]\n",
      " [-4.]\n",
      " [ 1.]]\n",
      "[[  9.93471703e-33]]\n",
      "[[ 5.]\n",
      " [-4.]\n",
      " [ 1.]]\n",
      "[[  9.93471703e-33]]\n",
      "[[ 5.]\n",
      " [-4.]\n",
      " [ 1.]]\n",
      "[[  9.93471703e-33]]\n",
      "[[ 5.]\n",
      " [-4.]\n",
      " [ 1.]]\n",
      "[[  9.93471703e-33]]\n",
      "[[ 5.]\n",
      " [-4.]\n",
      " [ 1.]]\n",
      "[[  9.93471703e-33]]\n",
      "[[ 5.]\n",
      " [-4.]\n",
      " [ 1.]]\n",
      "[[  9.93471703e-33]]\n",
      "[[ 5.]\n",
      " [-4.]\n",
      " [ 1.]]\n",
      "[[  9.93471703e-33]]\n",
      "[[ 5.]\n",
      " [-4.]\n",
      " [ 1.]]\n",
      "[[  9.93471703e-33]]\n",
      "[[ 5.]\n",
      " [-4.]\n",
      " [ 1.]]\n",
      "[[  9.93471703e-33]]\n",
      "[[ 5.]\n",
      " [-4.]\n",
      " [ 1.]]\n",
      "[[  9.93471703e-33]]\n",
      "[[ 5.]\n",
      " [-4.]\n",
      " [ 1.]]\n",
      "[[  9.93471703e-33]]\n",
      "[[ 5.]\n",
      " [-4.]\n",
      " [ 1.]]\n",
      "[[  9.93471703e-33]]\n",
      "[[ 5.]\n",
      " [-4.]\n",
      " [ 1.]]\n",
      "[[  9.93471703e-33]]\n",
      "[[ 5.]\n",
      " [-4.]\n",
      " [ 1.]]\n",
      "[[  9.93471703e-33]]\n",
      "[[ 5.]\n",
      " [-4.]\n",
      " [ 1.]]\n",
      "[[  9.93471703e-33]]\n",
      "[[ 5.]\n",
      " [-4.]\n",
      " [ 1.]]\n",
      "[[  9.93471703e-33]]\n",
      "[[ 5.]\n",
      " [-4.]\n",
      " [ 1.]]\n",
      "[[  9.93471703e-33]]\n",
      "[[ 5.]\n",
      " [-4.]\n",
      " [ 1.]]\n",
      "[[  9.93471703e-33]]\n",
      "[[ 5.]\n",
      " [-4.]\n",
      " [ 1.]]\n",
      "[[  9.93471703e-33]]\n",
      "[[ 5.]\n",
      " [-4.]\n",
      " [ 1.]]\n",
      "[[  9.93471703e-33]]\n",
      "[[ 5.]\n",
      " [-4.]\n",
      " [ 1.]]\n",
      "[[  9.93471703e-33]]\n",
      "[[ 5.]\n",
      " [-4.]\n",
      " [ 1.]]\n",
      "[[  9.93471703e-33]]\n",
      "[[ 5.]\n",
      " [-4.]\n",
      " [ 1.]]\n",
      "[[  9.93471703e-33]]\n",
      "[[ 5.]\n",
      " [-4.]\n",
      " [ 1.]]\n",
      "[[  9.93471703e-33]]\n",
      "[[ 5.]\n",
      " [-4.]\n",
      " [ 1.]]\n",
      "[[  9.93471703e-33]]\n",
      "[[ 5.]\n",
      " [-4.]\n",
      " [ 1.]]\n",
      "[[  9.93471703e-33]]\n",
      "[[ 5.]\n",
      " [-4.]\n",
      " [ 1.]]\n",
      "[[  9.93471703e-33]]\n",
      "[[ 5.]\n",
      " [-4.]\n",
      " [ 1.]]\n",
      "[[  9.93471703e-33]]\n",
      "[[ 5.]\n",
      " [-4.]\n",
      " [ 1.]]\n",
      "[[  9.93471703e-33]]\n",
      "[[ 5.]\n",
      " [-4.]\n",
      " [ 1.]]\n",
      "[[  9.93471703e-33]]\n",
      "[[ 5.]\n",
      " [-4.]\n",
      " [ 1.]]\n",
      "[[  9.93471703e-33]]\n",
      "[[ 5.]\n",
      " [-4.]\n",
      " [ 1.]]\n",
      "[[  9.93471703e-33]]\n",
      "[[ 5.]\n",
      " [-4.]\n",
      " [ 1.]]\n",
      "[[  9.93471703e-33]]\n",
      "[[ 5.]\n",
      " [-4.]\n",
      " [ 1.]]\n",
      "[[  9.93471703e-33]]\n",
      "[[ 5.]\n",
      " [-4.]\n",
      " [ 1.]]\n",
      "[[  9.93471703e-33]]\n",
      "[[ 5.]\n",
      " [-4.]\n",
      " [ 1.]]\n",
      "[[  9.93471703e-33]]\n",
      "[[ 5.]\n",
      " [-4.]\n",
      " [ 1.]]\n",
      "[[  9.93471703e-33]]\n",
      "[[ 5.]\n",
      " [-4.]\n",
      " [ 1.]]\n",
      "[[  9.93471703e-33]]\n",
      "[[ 5.]\n",
      " [-4.]\n",
      " [ 1.]]\n",
      "[[  9.93471703e-33]]\n",
      "[[ 5.]\n",
      " [-4.]\n",
      " [ 1.]]\n",
      "[[  9.93471703e-33]]\n",
      "[[ 5.]\n",
      " [-4.]\n",
      " [ 1.]]\n",
      "[[  9.93471703e-33]]\n",
      "[[ 5.]\n",
      " [-4.]\n",
      " [ 1.]]\n",
      "[[  9.93471703e-33]]\n",
      "[[ 5.]\n",
      " [-4.]\n",
      " [ 1.]]\n",
      "[[  9.93471703e-33]]\n",
      "[[ 5.]\n",
      " [-4.]\n",
      " [ 1.]]\n",
      "[[  9.93471703e-33]]\n",
      "[[ 5.]\n",
      " [-4.]\n",
      " [ 1.]]\n",
      "[[  9.93471703e-33]]\n",
      "[[ 5.]\n",
      " [-4.]\n",
      " [ 1.]]\n",
      "[[  9.93471703e-33]]\n",
      "[[ 5.]\n",
      " [-4.]\n",
      " [ 1.]]\n",
      "[[  9.93471703e-33]]\n",
      "[[ 5.]\n",
      " [-4.]\n",
      " [ 1.]]\n",
      "[[  9.93471703e-33]]\n",
      "[[ 5.]\n",
      " [-4.]\n",
      " [ 1.]]\n",
      "[[  9.93471703e-33]]\n",
      "[[ 5.]\n",
      " [-4.]\n",
      " [ 1.]]\n",
      "[[  9.93471703e-33]]\n",
      "[[ 5.]\n",
      " [-4.]\n",
      " [ 1.]]\n",
      "[[  9.93471703e-33]]\n",
      "[[ 5.]\n",
      " [-4.]\n",
      " [ 1.]]\n",
      "[[  9.93471703e-33]]\n",
      "[[ 5.]\n",
      " [-4.]\n",
      " [ 1.]]\n",
      "[[  9.93471703e-33]]\n",
      "[[ 5.]\n",
      " [-4.]\n",
      " [ 1.]]\n",
      "[[  9.93471703e-33]]\n",
      "[[ 5.]\n",
      " [-4.]\n",
      " [ 1.]]\n",
      "[[  9.93471703e-33]]\n",
      "[[ 5.]\n",
      " [-4.]\n",
      " [ 1.]]\n",
      "[[  9.93471703e-33]]\n",
      "[[ 5.]\n",
      " [-4.]\n",
      " [ 1.]]\n",
      "[[  9.93471703e-33]]\n",
      "[[ 5.]\n",
      " [-4.]\n",
      " [ 1.]]\n",
      "[[  9.93471703e-33]]\n",
      "[[ 5.]\n",
      " [-4.]\n",
      " [ 1.]]\n",
      "[[  9.93471703e-33]]\n",
      "[[ 5.]\n",
      " [-4.]\n",
      " [ 1.]]\n",
      "[[  9.93471703e-33]]\n",
      "[[ 5.]\n",
      " [-4.]\n",
      " [ 1.]]\n",
      "[[  9.93471703e-33]]\n",
      "[[ 5.]\n",
      " [-4.]\n",
      " [ 1.]]\n",
      "[[  9.93471703e-33]]\n",
      "[[ 5.]\n",
      " [-4.]\n",
      " [ 1.]]\n",
      "[[  9.93471703e-33]]\n",
      "[[ 5.]\n",
      " [-4.]\n",
      " [ 1.]]\n",
      "[[  9.93471703e-33]]\n",
      "[[ 5.]\n",
      " [-4.]\n",
      " [ 1.]]\n",
      "[[  9.93471703e-33]]\n",
      "[[ 5.]\n",
      " [-4.]\n",
      " [ 1.]]\n",
      "[[  9.93471703e-33]]\n",
      "[[ 5.]\n",
      " [-4.]\n",
      " [ 1.]]\n",
      "[[  9.93471703e-33]]\n",
      "[[ 5.]\n",
      " [-4.]\n",
      " [ 1.]]\n",
      "[[  9.93471703e-33]]\n",
      "[[ 5.]\n",
      " [-4.]\n",
      " [ 1.]]\n",
      "[[  9.93471703e-33]]\n",
      "[[ 5.]\n",
      " [-4.]\n",
      " [ 1.]]\n",
      "[[  9.93471703e-33]]\n",
      "[[ 5.]\n",
      " [-4.]\n",
      " [ 1.]]\n",
      "[[  9.93471703e-33]]\n",
      "[[ 5.]\n",
      " [-4.]\n",
      " [ 1.]]\n",
      "[[  9.93471703e-33]]\n",
      "[[ 5.]\n",
      " [-4.]\n",
      " [ 1.]]\n",
      "[[  9.93471703e-33]]\n",
      "[[ 5.]\n",
      " [-4.]\n",
      " [ 1.]]\n",
      "[[  9.93471703e-33]]\n",
      "[[ 5.]\n",
      " [-4.]\n",
      " [ 1.]]\n",
      "[[  9.93471703e-33]]\n",
      "[[ 5.]\n",
      " [-4.]\n",
      " [ 1.]]\n",
      "[[  9.93471703e-33]]\n",
      "[[ 5.]\n",
      " [-4.]\n",
      " [ 1.]]\n",
      "[[  9.93471703e-33]]\n",
      "[[ 5.]\n",
      " [-4.]\n",
      " [ 1.]]\n",
      "[[  9.93471703e-33]]\n",
      "[[ 5.]\n",
      " [-4.]\n",
      " [ 1.]]\n",
      "[[  9.93471703e-33]]\n",
      "[[ 5.]\n",
      " [-4.]\n",
      " [ 1.]]\n",
      "[[  9.93471703e-33]]\n",
      "[[ 5.]\n",
      " [-4.]\n",
      " [ 1.]]\n",
      "[[  9.93471703e-33]]\n",
      "[[ 5.]\n",
      " [-4.]\n",
      " [ 1.]]\n",
      "[[  9.93471703e-33]]\n",
      "[[ 5.]\n",
      " [-4.]\n",
      " [ 1.]]\n"
     ]
    }
   ],
   "source": [
    "W = np.random.rand(3,1)\n",
    "\n",
    "for i in range(100):\n",
    "    Cost = 0.5/2000*(np.matmul(np.transpose(np.subtract(np.matmul(train[:,[0,1,2]], W), train[:,[3]])), np.subtract(np.matmul(train[:,[0,1,2]], W), train[:,[3]])))\n",
    "    \n",
    "    derivative = 1.0/2000*(np.matmul(np.transpose(train[:,[0,1,2]]), np.subtract(np.matmul(train[:,[0,1,2]], W), train[:,[3]])))\n",
    "    hessian = 1.0/2000*np.matmul(np.transpose(train[:,[0,1,2]]), train[:,[0,1,2]])\n",
    "    invHessian = np.linalg.pinv(hessian)\n",
    "    W = np.subtract(W, np.matmul(invHessian, derivative))"
   ]
  },
  {
   "cell_type": "code",
   "execution_count": 16,
   "metadata": {},
   "outputs": [
    {
     "name": "stdout",
     "output_type": "stream",
     "text": [
      "[[ 5.]\n",
      " [-4.]\n",
      " [ 1.]]\n"
     ]
    }
   ],
   "source": [
    "print W"
   ]
  },
  {
   "cell_type": "code",
   "execution_count": null,
   "metadata": {},
   "outputs": [],
   "source": []
  }
 ],
 "metadata": {
  "kernelspec": {
   "display_name": "Python 2",
   "language": "python",
   "name": "python2"
  },
  "language_info": {
   "codemirror_mode": {
    "name": "ipython",
    "version": 2
   },
   "file_extension": ".py",
   "mimetype": "text/x-python",
   "name": "python",
   "nbconvert_exporter": "python",
   "pygments_lexer": "ipython2",
   "version": "2.7.14"
  }
 },
 "nbformat": 4,
 "nbformat_minor": 2
}
